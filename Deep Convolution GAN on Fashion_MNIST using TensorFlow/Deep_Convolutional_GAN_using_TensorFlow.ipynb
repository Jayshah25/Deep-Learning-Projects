{
  "nbformat": 4,
  "nbformat_minor": 0,
  "metadata": {
    "colab": {
      "name": "Deep Convolutional GAN using TensorFlow",
      "provenance": []
    },
    "kernelspec": {
      "name": "python3",
      "display_name": "Python 3"
    },
    "language_info": {
      "name": "python"
    },
    "accelerator": "GPU"
  },
  "cells": [
    {
      "cell_type": "markdown",
      "metadata": {
        "id": "QP2ZmEmEIr28"
      },
      "source": [
        "# Deep Convolutional Generative Adversarial Network using TensorFlow 2"
      ]
    },
    {
      "cell_type": "markdown",
      "metadata": {
        "id": "2pP9eB1OI1xD"
      },
      "source": [
        "## Introduction"
      ]
    },
    {
      "cell_type": "markdown",
      "metadata": {
        "id": "fTQl-CgsI4k6"
      },
      "source": [
        "In this notebook, we will implement Deep Convolutional Generative Adversarial Network (DC GAN) using TensorFlow framework on the benchmark Fashion MNIST dataset. To follow along, a basic understanding of Python and Deep Learning is necessary. Besides, it is important to be aware of the theory of the Generative Adversarial Network."
      ]
    },
    {
      "cell_type": "markdown",
      "metadata": {
        "id": "5oOq8DV-vkLm"
      },
      "source": [
        "![Image](https://www.researchgate.net/publication/331282441/figure/fig3/AS:729118295478273@1550846756282/Deep-convolutional-generative-adversarial-networks-DCGAN-for-generative-model-of-BF-NSP.png)"
      ]
    },
    {
      "cell_type": "markdown",
      "metadata": {
        "id": "5z968_hJwmdh"
      },
      "source": [
        "[Source](https://www.researchgate.net/figure/Deep-convolutional-generative-adversarial-networks-DCGAN-for-generative-model-of-BF-NSP_fig3_331282441)"
      ]
    },
    {
      "cell_type": "markdown",
      "metadata": {
        "id": "myA8kKbwKFqt"
      },
      "source": [
        "## Installation and imports"
      ]
    },
    {
      "cell_type": "code",
      "metadata": {
        "id": "DcbuqssFKQrh"
      },
      "source": [
        "# Data Handling toolbox\n",
        "import numpy as np\n",
        "import matplotlib.pyplot as plt\n",
        "import glob\n",
        "import imageio\n",
        "import os\n",
        "import time\n",
        "\n",
        "# Machine Learning Toolbox\n",
        "import tensorflow as tf\n",
        "from tensorflow.keras.layers import Dense, Conv2D, BatchNormalization, LeakyReLU, Reshape, Conv2DTranspose, Dropout, Flatten\n",
        "from tensorflow.keras import Sequential\n",
        "from tensorflow.keras.losses import BinaryCrossentropy\n",
        "from tensorflow.keras.optimizers import Adam\n",
        "\n",
        "# Visualization Purpose\n",
        "from IPython import display"
      ],
      "execution_count": 1,
      "outputs": []
    },
    {
      "cell_type": "code",
      "metadata": {
        "colab": {
          "base_uri": "https://localhost:8080/"
        },
        "id": "jLKwnif5LJye",
        "outputId": "fcc67525-a044-4526-e107-d85ecd9c7885"
      },
      "source": [
        "# Load the data\n",
        "from tensorflow.keras.datasets import fashion_mnist as dataset\n",
        "(train_images, train_labels), (_, _) = dataset.load_data()"
      ],
      "execution_count": 2,
      "outputs": [
        {
          "output_type": "stream",
          "text": [
            "Downloading data from https://storage.googleapis.com/tensorflow/tf-keras-datasets/train-labels-idx1-ubyte.gz\n",
            "32768/29515 [=================================] - 0s 0us/step\n",
            "Downloading data from https://storage.googleapis.com/tensorflow/tf-keras-datasets/train-images-idx3-ubyte.gz\n",
            "26427392/26421880 [==============================] - 0s 0us/step\n",
            "Downloading data from https://storage.googleapis.com/tensorflow/tf-keras-datasets/t10k-labels-idx1-ubyte.gz\n",
            "8192/5148 [===============================================] - 0s 0us/step\n",
            "Downloading data from https://storage.googleapis.com/tensorflow/tf-keras-datasets/t10k-images-idx3-ubyte.gz\n",
            "4423680/4422102 [==============================] - 0s 0us/step\n"
          ],
          "name": "stdout"
        }
      ]
    },
    {
      "cell_type": "markdown",
      "metadata": {
        "id": "K8AM1eskL4MT"
      },
      "source": [
        "## Data Preprocessing"
      ]
    },
    {
      "cell_type": "code",
      "metadata": {
        "id": "JvxicjvnLWkT"
      },
      "source": [
        "# reshaping the train images and converting data type to \"float32\"\n",
        "train_images = train_images.reshape(train_images.shape[0], 28, 28, 1).astype('float32')"
      ],
      "execution_count": 3,
      "outputs": []
    },
    {
      "cell_type": "code",
      "metadata": {
        "id": "l3b8J115MTRA"
      },
      "source": [
        "# Normalizing the train images\n",
        "train_images = (train_images - 127.5) / 127.5"
      ],
      "execution_count": 4,
      "outputs": []
    },
    {
      "cell_type": "code",
      "metadata": {
        "id": "Vh1UPZ8rMcop"
      },
      "source": [
        "# define the constants\n",
        "BUFFER_SIZE = 60000\n",
        "BATCH_SIZE = 256"
      ],
      "execution_count": 5,
      "outputs": []
    },
    {
      "cell_type": "code",
      "metadata": {
        "id": "n50YsqtMkx7p"
      },
      "source": [
        "# batch and shuffle the data\n",
        "train_dataset = tf.data.Dataset.from_tensor_slices(train_images).shuffle(BUFFER_SIZE).batch(BATCH_SIZE)"
      ],
      "execution_count": 6,
      "outputs": []
    },
    {
      "cell_type": "markdown",
      "metadata": {
        "id": "oMrGzQfKk8OV"
      },
      "source": [
        "## Define the Models"
      ]
    },
    {
      "cell_type": "markdown",
      "metadata": {
        "id": "2cImOzhQk-dv"
      },
      "source": [
        "As we know, the Generative Adversarial Network consists of two models - Generator and Discriminator. Generator generates images whereas Discriminator tries to estimate if the generated image is really \"generated\" or is just a part of the dataset used. Therefore, Discriminator is a binary classifier and Generator is an unsupervised Deep Learning Model. In this example, we demonstrate DC GAN and, hence, we Deep Convolutional Networks for both the models.  "
      ]
    },
    {
      "cell_type": "code",
      "metadata": {
        "id": "xYMWdAKWmK6o"
      },
      "source": [
        "# We use the basic generator model defined by the TensorFlow Documentation [1].\n",
        "generator = Sequential([\n",
        "                        # input dense layer, with batch normalization and Leaky ReLU\n",
        "                        Dense(7*7*256, use_bias=False, input_shape=(100,)),\n",
        "                        BatchNormalization(),\n",
        "                        LeakyReLU(alpha=0.35),\n",
        "\n",
        "                        # Reshaping\n",
        "                        Reshape((7,7,256)),\n",
        "\n",
        "                        # Add Conv2D Transpose Layer with Batch Normalization and LeakyReLU\n",
        "                        Conv2DTranspose(128, (5, 5), strides=(1, 1), padding='same', use_bias=False),\n",
        "                        BatchNormalization(),\n",
        "                        LeakyReLU(alpha=0.3), # default value of 0.3 is used\n",
        "\n",
        "                        # Add Another Layer with the same composition\n",
        "                        Conv2DTranspose(64, (5, 5), strides=(2, 2), padding='same', use_bias=False),\n",
        "                        BatchNormalization(),\n",
        "                        LeakyReLU(alpha=0.3),\n",
        "\n",
        "                        Conv2DTranspose(1, (5, 5), strides=(2, 2), padding='same', use_bias=False, activation='tanh')\n",
        "])"
      ],
      "execution_count": 7,
      "outputs": []
    },
    {
      "cell_type": "code",
      "metadata": {
        "id": "OH0CMRz0p6Nv"
      },
      "source": [
        "# We define the discriminator model\n",
        "discriminator = Sequential([\n",
        "                        #First Convolution Layer\n",
        "                        Conv2D(filters=64,kernel_size=(3,3),padding='same',\n",
        "                               kernel_initializer='he_normal',\n",
        "                               activation=tf.keras.layers.LeakyReLU(alpha=0.01)),\n",
        "                        \n",
        "                        # Add drop out\n",
        "                        Dropout(0.4),\n",
        "\n",
        "                        #Third Convolution Layer\n",
        "                        Conv2D(filters=128,kernel_size=(3,3),padding='same',\n",
        "                               kernel_initializer='he_normal',\n",
        "                               activation=tf.keras.layers.LeakyReLU(alpha=0.01)),\n",
        "                        \n",
        "                        #Flattening the output from last conv layer\n",
        "                        Flatten(),\n",
        "\n",
        "                        #Using Feed Forward NN as final layers for Classification\n",
        "                        #Feed Forward Layer 1\n",
        "                        Dense(128, activation=tf.keras.layers.LeakyReLU(alpha=0.001)),\n",
        "\n",
        "                        #Feed Forward Layer 2\n",
        "                        Dense(64, activation=tf.keras.layers.LeakyReLU(alpha=0.001)),\n",
        "\n",
        "                        #Feed Forward Layer 3\n",
        "                        Dense(32, activation='relu'),\n",
        "\n",
        "                        #Output Layer\n",
        "                        Dense(1)\n",
        "])"
      ],
      "execution_count": 8,
      "outputs": []
    },
    {
      "cell_type": "markdown",
      "metadata": {
        "id": "8aKdvuYMw6l8"
      },
      "source": [
        "## Define the Loss Functions"
      ]
    },
    {
      "cell_type": "markdown",
      "metadata": {
        "id": "a1cBf_n7x1Cs"
      },
      "source": [
        "Since we have two models, we need to define two loss functions - one for generator and one for discriminator. \n",
        "\n",
        "The losses defined below are based on the official TensorFlow Documentation."
      ]
    },
    {
      "cell_type": "code",
      "metadata": {
        "id": "MVwk0QNSw9Bd"
      },
      "source": [
        "cross_entropy = BinaryCrossentropy(from_logits=True)"
      ],
      "execution_count": 9,
      "outputs": []
    },
    {
      "cell_type": "code",
      "metadata": {
        "id": "GpdrcFbUxUqd"
      },
      "source": [
        "# define the Generator Loss\n",
        "def generator_loss(fake_output):\n",
        "    return cross_entropy(tf.ones_like(fake_output), fake_output)"
      ],
      "execution_count": 10,
      "outputs": []
    },
    {
      "cell_type": "code",
      "metadata": {
        "id": "ZEMluXcpxoLb"
      },
      "source": [
        "# define the discriminator loss\n",
        "def discriminator_loss(real_output, fake_output):\n",
        "    real_loss = cross_entropy(tf.ones_like(real_output), real_output)\n",
        "    fake_loss = cross_entropy(tf.zeros_like(fake_output), fake_output)\n",
        "    total_loss = real_loss + fake_loss\n",
        "    return total_loss"
      ],
      "execution_count": 11,
      "outputs": []
    },
    {
      "cell_type": "markdown",
      "metadata": {
        "id": "JHxx4kAWyLjN"
      },
      "source": [
        "## Define the Optimizers"
      ]
    },
    {
      "cell_type": "markdown",
      "metadata": {
        "id": "XTIwkQKuyQ7c"
      },
      "source": [
        "Like Loss Functions, we need to define two optimizers"
      ]
    },
    {
      "cell_type": "code",
      "metadata": {
        "id": "9HOZ-n3eyKn4"
      },
      "source": [
        "# Optimizer for Generator\n",
        "generator_optimizer = Adam(1e-4)"
      ],
      "execution_count": 12,
      "outputs": []
    },
    {
      "cell_type": "code",
      "metadata": {
        "id": "6kN-lDbRyk_H"
      },
      "source": [
        "# Optimizer for Discriminator\n",
        "discriminator_optimizer = Adam(1e-4)"
      ],
      "execution_count": 13,
      "outputs": []
    },
    {
      "cell_type": "markdown",
      "metadata": {
        "id": "MDuvVQ4PzAfY"
      },
      "source": [
        "## Checkpoint"
      ]
    },
    {
      "cell_type": "code",
      "metadata": {
        "id": "4aiUY8Q7zD3m"
      },
      "source": [
        "# Set up the checkpoint directory\n",
        "checkpoint_dir = '/content/chkpt/training_checkpoints'\n",
        "checkpoint_prefix = os.path.join(checkpoint_dir, \"ckpt\")\n",
        "checkpoint = tf.train.Checkpoint(generator_optimizer=generator_optimizer,\n",
        "                                 discriminator_optimizer=discriminator_optimizer,\n",
        "                                 generator=generator,\n",
        "                                 discriminator=discriminator)"
      ],
      "execution_count": 14,
      "outputs": []
    },
    {
      "cell_type": "markdown",
      "metadata": {
        "id": "M4EaKMOO6zK3"
      },
      "source": [
        "## Training the Deep Convolutional GAN"
      ]
    },
    {
      "cell_type": "code",
      "metadata": {
        "id": "kXioF-hO64wr"
      },
      "source": [
        "# define a helper function\n",
        "def generate_and_save_images(model, epoch, test_input):\n",
        "  # Notice `training` is set to False.\n",
        "  # This is so all layers run in inference mode (batchnorm).\n",
        "  predictions = model(test_input, training=False)\n",
        "\n",
        "  fig = plt.figure(figsize=(4, 4))\n",
        "\n",
        "  for i in range(predictions.shape[0]):\n",
        "      plt.subplot(4, 4, i+1)\n",
        "      plt.imshow(predictions[i, :, :, 0] * 127.5 + 127.5, cmap='gray')\n",
        "      plt.axis('off')\n",
        "\n",
        "  plt.savefig('image_at_epoch_{:04d}.png'.format(epoch))\n",
        "  plt.show()"
      ],
      "execution_count": 15,
      "outputs": []
    },
    {
      "cell_type": "code",
      "metadata": {
        "id": "WAX9Cc4U6-9e"
      },
      "source": [
        "# define the parameters and set the seed\n",
        "EPOCHS = 50\n",
        "noise_dim = 100\n",
        "num_examples_to_generate = 16\n",
        "seed = tf.random.normal([num_examples_to_generate, noise_dim])"
      ],
      "execution_count": 16,
      "outputs": []
    },
    {
      "cell_type": "code",
      "metadata": {
        "id": "hYcXHGzc76Db"
      },
      "source": [
        "# Notice the use of `tf.function`\n",
        "# This annotation causes the function to be \"compiled\".\n",
        "@tf.function\n",
        "def train_step(images):\n",
        "    noise = tf.random.normal([BATCH_SIZE, noise_dim])\n",
        "\n",
        "    # Since we are simultaneously training two models,\n",
        "    # we use tf.GradientTape() to look out for respective variables of two models\n",
        "    with tf.GradientTape() as gen_tape, tf.GradientTape() as disc_tape:\n",
        "      generated_images = generator(noise, training=True)\n",
        "\n",
        "      real_output = discriminator(images, training=True)\n",
        "      fake_output = discriminator(generated_images, training=True)\n",
        "\n",
        "      gen_loss = generator_loss(fake_output)\n",
        "      disc_loss = discriminator_loss(real_output, fake_output)\n",
        "\n",
        "    gradients_of_generator = gen_tape.gradient(gen_loss, generator.trainable_variables)\n",
        "    gradients_of_discriminator = disc_tape.gradient(disc_loss, discriminator.trainable_variables)\n",
        "\n",
        "    generator_optimizer.apply_gradients(zip(gradients_of_generator, generator.trainable_variables))\n",
        "    discriminator_optimizer.apply_gradients(zip(gradients_of_discriminator, discriminator.trainable_variables))"
      ],
      "execution_count": 17,
      "outputs": []
    },
    {
      "cell_type": "code",
      "metadata": {
        "id": "hyvPnFk-943D"
      },
      "source": [
        "# Let's define the train loop\n",
        "def train(dataset, epochs):\n",
        "  for epoch in range(epochs):\n",
        "    start = time.time()\n",
        "\n",
        "    for image_batch in dataset:\n",
        "      train_step(image_batch)\n",
        "\n",
        "    # Produce images for the GIF as you go\n",
        "    display.clear_output(wait=True)\n",
        "    generate_and_save_images(generator,\n",
        "                             epoch + 1,\n",
        "                             seed)\n",
        "\n",
        "    # Save the model every 15 epochs\n",
        "    if (epoch + 1) % 15 == 0:\n",
        "      checkpoint.save(file_prefix = checkpoint_prefix)\n",
        "\n",
        "    print ('Time for epoch {} is {} sec'.format(epoch + 1, time.time()-start))\n",
        "\n",
        "  # Generate after the final epoch\n",
        "  display.clear_output(wait=True)\n",
        "  generate_and_save_images(generator,\n",
        "                           epochs,\n",
        "                           seed)"
      ],
      "execution_count": 18,
      "outputs": []
    },
    {
      "cell_type": "code",
      "metadata": {
        "colab": {
          "base_uri": "https://localhost:8080/",
          "height": 248
        },
        "id": "9xtSVB7SBApx",
        "outputId": "f7a7c4e1-40a7-404a-a057-52d3bed7c5df"
      },
      "source": [
        "# Let's train\n",
        "train(train_dataset, EPOCHS)"
      ],
      "execution_count": 20,
      "outputs": [
        {
          "output_type": "display_data",
          "data": {
            "image/png": "[encoded data removed]",
            "text/plain": [
              "<Figure size 288x288 with 16 Axes>"
            ]
          },
          "metadata": {
            "tags": [],
            "needs_background": "light"
          }
        }
      ]
    },
    {
      "cell_type": "markdown",
      "metadata": {
        "id": "YELZgxbmEF--"
      },
      "source": [
        "## Generate the GIF "
      ]
    },
    {
      "cell_type": "markdown",
      "metadata": {
        "id": "TIiC7OqREPWp"
      },
      "source": [
        "Let us generate a GIF to understand the evolution of Fake Images as the Generator gets better in its performance"
      ]
    },
    {
      "cell_type": "code",
      "metadata": {
        "id": "IuUUR-bwEEko"
      },
      "source": [
        "# The code is based on TensorFlow Official Documentation [1]\n",
        "# define the GIF file\n",
        "anim_file = 'dcgan.gif'\n",
        "\n",
        "with imageio.get_writer(anim_file, mode='I') as writer:\n",
        "  # get the files starting with \"image\"\n",
        "  filenames = glob.glob('image*.png')\n",
        "  # sort the files to visualize the evolution\n",
        "  filenames = sorted(filenames)\n",
        "  for filename in filenames:\n",
        "    # read the image file\n",
        "    image = imageio.imread(filename)\n",
        "    # append image file\n",
        "    writer.append_data(image)\n",
        "  # get the \"image\" form\n",
        "  image = imageio.imread(filename)\n",
        "  # append the image\n",
        "  writer.append_data(image)"
      ],
      "execution_count": 21,
      "outputs": []
    },
    {
      "cell_type": "markdown",
      "metadata": {
        "id": "ootpo4mKjg2i"
      },
      "source": [
        "## References"
      ]
    },
    {
      "cell_type": "markdown",
      "metadata": {
        "id": "eIHBn2_Gjjkm"
      },
      "source": [
        "* [TensorFlow Documentation](https://www.tensorflow.org/tutorials/generative/dcgan)\n",
        "\n",
        "* [Difference between Upsampling and Conv2DTranspose used in U-Net and GANs](https://youtu.be/fMwti6zFcYY)\n",
        "\n",
        "* [How to use the UpSampling2D and Conv2DTranspose Layers in Keras](https://machinelearningmastery.com/upsampling-and-transpose-convolution-layers-for-generative-adversarial-networks/)\n",
        "\n",
        "* [Understand the loss functions and training of a GAN](https://machinelearningmastery.com/how-to-code-the-generative-adversarial-network-training-algorithm-and-loss-functions/)\n",
        "\n",
        "* [Understand the Gradient Tape](https://www.tensorflow.org/api_docs/python/tf/GradientTape)"
      ]
    }
  ]
}