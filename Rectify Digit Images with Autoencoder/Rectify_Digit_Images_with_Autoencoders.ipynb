{
  "nbformat": 4,
  "nbformat_minor": 0,
  "metadata": {
    "colab": {
      "name": "Rectify Digit Images with Autoencoders",
      "provenance": []
    },
    "kernelspec": {
      "name": "python3",
      "display_name": "Python 3"
    },
    "language_info": {
      "name": "python"
    }
  },
  "cells": [
    {
      "cell_type": "markdown",
      "metadata": {
        "id": "1rkuDNHzkUBV"
      },
      "source": [
        "## Import and Installations"
      ]
    },
    {
      "cell_type": "code",
      "metadata": {
        "id": "7_EchxcmM2P6"
      },
      "source": [
        "# Data Handling Toolbox\n",
        "import numpy as np\n",
        "import matplotlib.pyplot as plt\n",
        "\n",
        "# Deep Learning Toolbox\n",
        "from tensorflow.keras.datasets import mnist as dataset \n",
        "from tensorflow.keras.layers import Dense, Reshape, Flatten\n",
        "from tensorflow.keras.models import  Model\n",
        "from tensorflow.keras import Sequential"
      ],
      "execution_count": 1,
      "outputs": []
    },
    {
      "cell_type": "code",
      "metadata": {
        "colab": {
          "base_uri": "https://localhost:8080/"
        },
        "id": "yuj4RCV-NYYZ",
        "outputId": "458d7be8-2095-4db5-cd35-eb470760a8b1"
      },
      "source": [
        "# Get the data\n",
        "# Since we are working with Unsupervised Problem, we don't require labels\n",
        "(X_train, _), (X_test, _) = dataset.load_data()"
      ],
      "execution_count": 2,
      "outputs": [
        {
          "output_type": "stream",
          "text": [
            "Downloading data from https://storage.googleapis.com/tensorflow/tf-keras-datasets/mnist.npz\n",
            "11493376/11490434 [==============================] - 0s 0us/step\n"
          ],
          "name": "stdout"
        }
      ]
    },
    {
      "cell_type": "code",
      "metadata": {
        "id": "2S1erEqyNqBv"
      },
      "source": [
        "# Scaling the data\n",
        "X_train = X_train.astype('float32')/255.\n",
        "X_test = X_test.astype('float32')/255."
      ],
      "execution_count": 3,
      "outputs": []
    },
    {
      "cell_type": "code",
      "metadata": {
        "colab": {
          "base_uri": "https://localhost:8080/",
          "height": 282
        },
        "id": "5Kzve-KsOJuy",
        "outputId": "78f032f0-9041-44e1-9386-163b1ded17c5"
      },
      "source": [
        "# Let's have a look at the first example from the dataset\n",
        "plt.imshow(X_train[0].reshape(28,28),cmap='gray')"
      ],
      "execution_count": 4,
      "outputs": [
        {
          "output_type": "execute_result",
          "data": {
            "text/plain": [
              "<matplotlib.image.AxesImage at 0x7f2c72947a10>"
            ]
          },
          "metadata": {
            "tags": []
          },
          "execution_count": 4
        },
        {
          "output_type": "display_data",
          "data": {
            "image/png": "[encoded data removed]",
            "text/plain": [
              "<Figure size 432x288 with 1 Axes>"
            ]
          },
          "metadata": {
            "tags": [],
            "needs_background": "light"
          }
        }
      ]
    },
    {
      "cell_type": "markdown",
      "metadata": {
        "id": "tzS4Ytb-KBOC"
      },
      "source": [
        "## Data Preparations"
      ]
    },
    {
      "cell_type": "markdown",
      "metadata": {
        "id": "8VoSTJNgKGv3"
      },
      "source": [
        "### Train Data Preparation"
      ]
    },
    {
      "cell_type": "code",
      "metadata": {
        "id": "Pr2toOTIKGv7"
      },
      "source": [
        "# Copy the original data\n",
        "X_train_orig = X_train.copy()\n",
        "X_test_orig = X_test.copy()"
      ],
      "execution_count": 5,
      "outputs": []
    },
    {
      "cell_type": "code",
      "metadata": {
        "colab": {
          "base_uri": "https://localhost:8080/",
          "height": 282
        },
        "id": "KCcTNjPXKGv4",
        "outputId": "17cc0d82-7bb7-4931-c8ad-30c95d4991bc"
      },
      "source": [
        "# Set upper half values to 0\n",
        "X_train[0,0:14,0:28] = 0\n",
        "# Let's have a look at the first example from the dataset\n",
        "plt.imshow(X_train[0],cmap='gray')"
      ],
      "execution_count": 6,
      "outputs": [
        {
          "output_type": "execute_result",
          "data": {
            "text/plain": [
              "<matplotlib.image.AxesImage at 0x7f2c7a12eb50>"
            ]
          },
          "metadata": {
            "tags": []
          },
          "execution_count": 6
        },
        {
          "output_type": "display_data",
          "data": {
            "image/png": "[encoded data removed]",
            "text/plain": [
              "<Figure size 432x288 with 1 Axes>"
            ]
          },
          "metadata": {
            "tags": [],
            "needs_background": "light"
          }
        }
      ]
    },
    {
      "cell_type": "code",
      "metadata": {
        "id": "lJVHa6qqLNui"
      },
      "source": [
        "# Initialize array to store cropped data input\n",
        "X_train_data = np.zeros(X_train.shape)"
      ],
      "execution_count": 7,
      "outputs": []
    },
    {
      "cell_type": "code",
      "metadata": {
        "id": "ZlCMjrB3LMZ_"
      },
      "source": [
        "for index, image in enumerate(X_train):\n",
        "  image[0:14,0:28] = 0\n",
        "  X_train_data[index] = image"
      ],
      "execution_count": 8,
      "outputs": []
    },
    {
      "cell_type": "markdown",
      "metadata": {
        "id": "BQ2UX6pqKkh8"
      },
      "source": [
        "### Test Data Preparations"
      ]
    },
    {
      "cell_type": "code",
      "metadata": {
        "id": "VKOEEBQeLXn7"
      },
      "source": [
        "X_test_data = np.zeros(X_test.shape)"
      ],
      "execution_count": 9,
      "outputs": []
    },
    {
      "cell_type": "code",
      "metadata": {
        "id": "0Quwz22mKGv8"
      },
      "source": [
        "for index, image in enumerate(X_test):\n",
        "  image[0:14,0:28] = 0\n",
        "  X_test_data[index] = image"
      ],
      "execution_count": 10,
      "outputs": []
    },
    {
      "cell_type": "markdown",
      "metadata": {
        "id": "4eSH-YmTkoiG"
      },
      "source": [
        "## Define Model"
      ]
    },
    {
      "cell_type": "code",
      "metadata": {
        "id": "7RXMuI3hkq8m"
      },
      "source": [
        "class Autoencoder(Model):\n",
        "  def __init__(self,latent_dimension):\n",
        "    super(Autoencoder,self).__init__()\n",
        "    self.latent = latent_dimension\n",
        "    self.encoder = Sequential(\n",
        "        [Flatten(),\n",
        "         Dense(256, activation='relu'),\n",
        "         Dense(128,'relu'),\n",
        "         Dense(self.latent, activation='relu')\n",
        "        ])\n",
        "    self.decoder = Sequential(\n",
        "        [Dense(self.latent,activation='relu'),\n",
        "         Dense(128,'relu'),\n",
        "         Dense(256, activation='relu'),\n",
        "         Dense(784,activation='sigmoid'),\n",
        "         Reshape((28,28))\n",
        "         ])\n",
        "    \n",
        "  def call(self,x):\n",
        "    encoded = self.encoder(x)\n",
        "    decoded = self.decoder(encoded)\n",
        "    return decoded"
      ],
      "execution_count": 11,
      "outputs": []
    },
    {
      "cell_type": "code",
      "metadata": {
        "id": "aYVTzFFtnR8x"
      },
      "source": [
        "# define an instance of the class Autoencoder\n",
        "autoencoder = Autoencoder(64)"
      ],
      "execution_count": 12,
      "outputs": []
    },
    {
      "cell_type": "code",
      "metadata": {
        "id": "RAKD4WtjnnSW"
      },
      "source": [
        "autoencoder.compile(optimizer='adam',loss='mse')"
      ],
      "execution_count": 13,
      "outputs": []
    },
    {
      "cell_type": "markdown",
      "metadata": {
        "id": "yyWUfjI9nyQ1"
      },
      "source": [
        "## Train the Model"
      ]
    },
    {
      "cell_type": "code",
      "metadata": {
        "colab": {
          "base_uri": "https://localhost:8080/"
        },
        "id": "43XpouQkn0ly",
        "outputId": "0de9c3ff-9614-4473-99e0-7557e2cec23b"
      },
      "source": [
        "autoencoder.fit(X_train_data, X_train_orig, epochs=50, shuffle=True)"
      ],
      "execution_count": 14,
      "outputs": [
        {
          "output_type": "stream",
          "text": [
            "Epoch 1/50\n",
            "1875/1875 [==============================] - 13s 7ms/step - loss: 0.0339\n",
            "Epoch 2/50\n",
            "1875/1875 [==============================] - 12s 7ms/step - loss: 0.0230\n",
            "Epoch 3/50\n",
            "1875/1875 [==============================] - 12s 7ms/step - loss: 0.0212\n",
            "Epoch 4/50\n",
            "1875/1875 [==============================] - 12s 6ms/step - loss: 0.0202\n",
            "Epoch 5/50\n",
            "1875/1875 [==============================] - 12s 7ms/step - loss: 0.0196\n",
            "Epoch 6/50\n",
            "1875/1875 [==============================] - 12s 6ms/step - loss: 0.0192\n",
            "Epoch 7/50\n",
            "1875/1875 [==============================] - 12s 6ms/step - loss: 0.0188\n",
            "Epoch 8/50\n",
            "1875/1875 [==============================] - 12s 7ms/step - loss: 0.0186\n",
            "Epoch 9/50\n",
            "1875/1875 [==============================] - 12s 7ms/step - loss: 0.0184\n",
            "Epoch 10/50\n",
            "1875/1875 [==============================] - 12s 7ms/step - loss: 0.0182\n",
            "Epoch 11/50\n",
            "1875/1875 [==============================] - 12s 7ms/step - loss: 0.0180\n",
            "Epoch 12/50\n",
            "1875/1875 [==============================] - 13s 7ms/step - loss: 0.0178\n",
            "Epoch 13/50\n",
            "1875/1875 [==============================] - 13s 7ms/step - loss: 0.0177\n",
            "Epoch 14/50\n",
            "1875/1875 [==============================] - 12s 7ms/step - loss: 0.0176\n",
            "Epoch 15/50\n",
            "1875/1875 [==============================] - 13s 7ms/step - loss: 0.0175\n",
            "Epoch 16/50\n",
            "1875/1875 [==============================] - 12s 7ms/step - loss: 0.0174\n",
            "Epoch 17/50\n",
            "1875/1875 [==============================] - 12s 7ms/step - loss: 0.0173\n",
            "Epoch 18/50\n",
            "1875/1875 [==============================] - 13s 7ms/step - loss: 0.0172\n",
            "Epoch 19/50\n",
            "1875/1875 [==============================] - 13s 7ms/step - loss: 0.0171\n",
            "Epoch 20/50\n",
            "1875/1875 [==============================] - 12s 7ms/step - loss: 0.0170\n",
            "Epoch 21/50\n",
            "1875/1875 [==============================] - 13s 7ms/step - loss: 0.0170\n",
            "Epoch 22/50\n",
            "1875/1875 [==============================] - 12s 7ms/step - loss: 0.0169\n",
            "Epoch 23/50\n",
            "1875/1875 [==============================] - 12s 7ms/step - loss: 0.0168\n",
            "Epoch 24/50\n",
            "1875/1875 [==============================] - 12s 7ms/step - loss: 0.0168\n",
            "Epoch 25/50\n",
            "1875/1875 [==============================] - 12s 6ms/step - loss: 0.0167\n",
            "Epoch 26/50\n",
            "1875/1875 [==============================] - 12s 6ms/step - loss: 0.0167\n",
            "Epoch 27/50\n",
            "1875/1875 [==============================] - 12s 7ms/step - loss: 0.0166\n",
            "Epoch 28/50\n",
            "1875/1875 [==============================] - 12s 6ms/step - loss: 0.0165\n",
            "Epoch 29/50\n",
            "1875/1875 [==============================] - 12s 7ms/step - loss: 0.0165\n",
            "Epoch 30/50\n",
            "1875/1875 [==============================] - 12s 6ms/step - loss: 0.0164\n",
            "Epoch 31/50\n",
            "1875/1875 [==============================] - 12s 7ms/step - loss: 0.0164\n",
            "Epoch 32/50\n",
            "1875/1875 [==============================] - 12s 7ms/step - loss: 0.0163\n",
            "Epoch 33/50\n",
            "1875/1875 [==============================] - 12s 6ms/step - loss: 0.0163\n",
            "Epoch 34/50\n",
            "1875/1875 [==============================] - 12s 7ms/step - loss: 0.0163\n",
            "Epoch 35/50\n",
            "1875/1875 [==============================] - 12s 6ms/step - loss: 0.0162\n",
            "Epoch 36/50\n",
            "1875/1875 [==============================] - 12s 6ms/step - loss: 0.0162\n",
            "Epoch 37/50\n",
            "1875/1875 [==============================] - 12s 6ms/step - loss: 0.0162\n",
            "Epoch 38/50\n",
            "1875/1875 [==============================] - 12s 7ms/step - loss: 0.0161\n",
            "Epoch 39/50\n",
            "1875/1875 [==============================] - 12s 7ms/step - loss: 0.0161\n",
            "Epoch 40/50\n",
            "1875/1875 [==============================] - 13s 7ms/step - loss: 0.0160\n",
            "Epoch 41/50\n",
            "1875/1875 [==============================] - 12s 7ms/step - loss: 0.0160\n",
            "Epoch 42/50\n",
            "1875/1875 [==============================] - 12s 6ms/step - loss: 0.0159\n",
            "Epoch 43/50\n",
            "1875/1875 [==============================] - 12s 6ms/step - loss: 0.0160\n",
            "Epoch 44/50\n",
            "1875/1875 [==============================] - 12s 6ms/step - loss: 0.0159\n",
            "Epoch 45/50\n",
            "1875/1875 [==============================] - 12s 6ms/step - loss: 0.0159\n",
            "Epoch 46/50\n",
            "1875/1875 [==============================] - 12s 6ms/step - loss: 0.0159\n",
            "Epoch 47/50\n",
            "1875/1875 [==============================] - 12s 6ms/step - loss: 0.0158\n",
            "Epoch 48/50\n",
            "1875/1875 [==============================] - 12s 6ms/step - loss: 0.0158\n",
            "Epoch 49/50\n",
            "1875/1875 [==============================] - 12s 6ms/step - loss: 0.0157\n",
            "Epoch 50/50\n",
            "1875/1875 [==============================] - 12s 6ms/step - loss: 0.0157\n"
          ],
          "name": "stdout"
        },
        {
          "output_type": "execute_result",
          "data": {
            "text/plain": [
              "<tensorflow.python.keras.callbacks.History at 0x7f2c6f377690>"
            ]
          },
          "metadata": {
            "tags": []
          },
          "execution_count": 14
        }
      ]
    },
    {
      "cell_type": "markdown",
      "metadata": {
        "id": "qg28PaGrxyUQ"
      },
      "source": [
        "## Encoding and Decoding Test Data"
      ]
    },
    {
      "cell_type": "code",
      "metadata": {
        "id": "uKyXf7dmrdC_"
      },
      "source": [
        "encoded_img_data = autoencoder.encoder(X_test_data).numpy()\n",
        "decoded_img_data = autoencoder.decoder(encoded_img_data)"
      ],
      "execution_count": 17,
      "outputs": []
    },
    {
      "cell_type": "markdown",
      "metadata": {
        "id": "ysv5N1_Ax4rF"
      },
      "source": [
        "## Results"
      ]
    },
    {
      "cell_type": "code",
      "metadata": {
        "colab": {
          "base_uri": "https://localhost:8080/",
          "height": 336
        },
        "id": "n8vzGAfwx6V3",
        "outputId": "aba3cecf-2288-42bd-ade1-dc519acaaa8a"
      },
      "source": [
        "plt.figure(figsize=(20,5))\n",
        "\n",
        "plt.subplot(1,3,1)\n",
        "plt.imshow(X_test_orig[10],cmap='gray')\n",
        "plt.title(\"Original\")\n",
        "\n",
        "plt.subplot(1,3,2)\n",
        "plt.imshow(X_test_data[10],cmap='gray')\n",
        "plt.title(\"Input\")\n",
        "\n",
        "plt.subplot(1,3,3)\n",
        "plt.imshow(decoded_img_data[10],cmap='gray')\n",
        "plt.title(\"Output\")\n",
        "\n",
        "plt.show()"
      ],
      "execution_count": 25,
      "outputs": [
        {
          "output_type": "display_data",
          "data": {
            "image/png": "[encoded data removed]",
            "text/plain": [
              "<Figure size 1440x360 with 3 Axes>"
            ]
          },
          "metadata": {
            "tags": [],
            "needs_background": "light"
          }
        }
      ]
    }
  ]
}